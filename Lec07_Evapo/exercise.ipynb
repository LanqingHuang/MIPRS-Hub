{
 "cells": [
  {
   "cell_type": "code",
   "execution_count": null,
   "metadata": {},
   "outputs": [],
   "source": [
    "import numpy as np\n",
    "import matplotlib.pyplot as plt\n",
    "import scipy.io"
   ]
  },
  {
   "cell_type": "markdown",
   "metadata": {},
   "source": [
    "your project: 'quiz' means you have to subsitute it with the correct variable/expression."
   ]
  },
  {
   "cell_type": "code",
   "execution_count": null,
   "metadata": {},
   "outputs": [],
   "source": [
    "# The area under analysis is close to Waldshut, on the North of the Rein (Germany).\n",
    "#path = './Waldshut/'\n",
    "# The area under analysis is near New Orleans (USA).\n",
    "path = './New_Orleans/'\n",
    "\n",
    "# Load data from MAT file\n",
    "data = scipy.io.loadmat(path + 'bands.mat')\n",
    "B1, B2, B3, B4, B5, B6, B7, B8, TIR = (\n",
    "    data['B1'], data['B2'], data['B3'], data['B4'],\n",
    "    data['B5'], data['B6'], data['B7'], data['B8'], data['TIR']\n",
    ")\n",
    "\n",
    "print('finished loading data')"
   ]
  },
  {
   "cell_type": "code",
   "execution_count": null,
   "metadata": {},
   "outputs": [],
   "source": [
    "#---Visualize images----\n",
    "def visualize_image(image, title, row, col, index):\n",
    "    plt.subplot(row, col, index)\n",
    "    plt.imshow(image, cmap='gray')\n",
    "    plt.title(title)\n",
    "    plt.axis('off')\n",
    "\n",
    "# Set up subplots\n",
    "fig, axs = plt.subplots(3, 3, figsize=(12, 12))\n",
    "\n",
    "# Visualize images in subfigures\n",
    "visualize_image(B1, 'Image band 1', 3, 3, 1)\n",
    "visualize_image(B2, 'Image band 2', 3, 3, 2)\n",
    "visualize_image(B3, 'Image band 3', 3, 3, 3)\n",
    "visualize_image(B4, 'Image band 4', 3, 3, 4)\n",
    "visualize_image(B5, 'Image band 5', 3, 3, 5)\n",
    "visualize_image(B6, 'Image band 6', 3, 3, 6)\n",
    "visualize_image(B7, 'Image band 7', 3, 3, 7)\n",
    "visualize_image(B8, 'Image band 8', 3, 3, 8)\n",
    "visualize_image(TIR, 'Image TIR', 3, 3, 9)\n",
    "\n",
    "# Save the figure\n",
    "#plt.savefig('visualize_images.png', bbox_inches='tight') # Save figure\n",
    "\n",
    "plt.show()\n",
    "\n",
    "# Convert image data to double\n",
    "B1, B2, B3, B4, B5, B6, B7, B8, TIR = [img.astype(float) for img in [B1, B2, B3, B4, B5, B6, B7, B8, TIR]]\n",
    "\n",
    "# Calculate the histogram of TIR\n",
    "xaxis = np.arange(256)\n",
    "h, _ = np.histogram(TIR.ravel(), bins=xaxis)\n",
    "plt.figure()\n",
    "plt.plot(h)\n",
    "plt.title('Histogram of TIR')"
   ]
  },
  {
   "cell_type": "code",
   "execution_count": null,
   "metadata": {},
   "outputs": [],
   "source": [
    "# You can also consider a pubportion of the entire image to test the algorithm\n",
    "# B3n = B3[0:500,300:800]\n",
    "# B4n = B4[0:500,300:800]\n",
    "# TIRn = TIR[0:500,300:800]\n",
    "\n",
    "#otherwise:\n",
    "B3n = B3\n",
    "B4n = B4\n",
    "TIRn = TIR\n",
    "\n",
    "# Define a function for filtering the image\n",
    "from scipy.signal import convolve as scipy_convolve\n",
    "\n",
    "def moving_average(data, smoothSize):\n",
    "    smoothWindow = 1 / (smoothSize * smoothSize) * np.ones((smoothSize, smoothSize))\n",
    "    return scipy_convolve(data, smoothWindow, mode='same', method='direct')\n",
    "\n",
    "# Apply moving average to the selected bands\n",
    "sw = 21\n",
    "B3n = moving_average(B3n, sw)\n",
    "B4n = moving_average(B4n, sw)\n",
    "TIRn = moving_average(TIRn, sw)\n",
    "\n",
    "print('finished smoothing')"
   ]
  },
  {
   "cell_type": "code",
   "execution_count": null,
   "metadata": {},
   "outputs": [],
   "source": [
    "# Visualize the images as visible RGB\n",
    "RGB321 = np.zeros(B1.shape + (3,))\n",
    "RGB321[..., 0] = B3 / 255.0\n",
    "RGB321[..., 1] = B2 / 255.0\n",
    "RGB321[..., 2] = B1 / 255.0\n",
    "\n",
    "stretched_RGB321 = np.clip((RGB321 - 0.1*np.mean(RGB321[~np.isnan(RGB321)])) / (2.5*np.mean(RGB321[~np.isnan(RGB321)]) - 0.1*np.mean(RGB321[~np.isnan(RGB321)])), 0, 1)\n",
    "plt.figure()\n",
    "plt.imshow(stretched_RGB321)\n",
    "plt.title('RGB 321 after stretching')"
   ]
  },
  {
   "cell_type": "code",
   "execution_count": null,
   "metadata": {},
   "outputs": [],
   "source": [
    "# Calculate NDVI\n",
    "# let's calculate NDVI and plot it\n",
    "NDVI = quiz # type in the formula for NDVI\n",
    "\n",
    "fig, axs = plt.subplots(1, 2, figsize=(12, 6))\n",
    "# Subfigure 1: NDVI Image\n",
    "axs[0].imshow(NDVI)\n",
    "axs[0].set_title('NDVI')\n",
    "axs[0].axis('off')  \n",
    "# Subfigure 2: Histogram of NDVI\n",
    "xaxis = np.linspace(-1, 1, num=256)  # Define the x-axis values\n",
    "hist, bins = np.histogram(NDVI.ravel(), bins=xaxis)\n",
    "axs[1].plot(bins[:-1], hist)\n",
    "axs[1].set_title('Histogram of NDVI')\n",
    "axs[1].set_xlabel('NDVI Values')\n",
    "axs[1].set_ylabel('Frequency')\n"
   ]
  },
  {
   "cell_type": "code",
   "execution_count": null,
   "metadata": {},
   "outputs": [],
   "source": [
    "# let's now plot TIR/NDVI on the triangle\n",
    "plt.figure()\n",
    "plt.plot(TIRn.ravel(), NDVI.ravel(), '.')\n",
    "plt.title('Triangle')\n",
    "plt.xlabel('TIR')\n",
    "plt.ylabel('NDVI')\n",
    "\n",
    "# Then, let's calculate and plot the parameters on the normalized triangle\n",
    "# Find out what is the maximum and minimum values for TIR\n",
    "TIR_max = 120\n",
    "TIR_min = 10\n",
    "# Obtain the normalized version of TIR\n",
    "TIR2 = (TIRn - quiz) / (quiz - quiz) # think about how to calculate normalized TIR\n",
    "\n",
    "NDVIs = quiz # On an area that seems populated by 100% vegetation find out the value of NDVIs\n",
    "\n",
    "NDVIo = quiz # On an area that seems populated by 100% bare ground find out the value of \n",
    "#NDVIo. You can go on the image of NDVI and use the cursor bottom to read\n",
    "#the value for an areas that you believe is vegetation (use the visible\n",
    "#RGB to aid such selection)\n",
    "\n",
    "# Obtain the normalized version of NDVI\n",
    "NDVI2 = (NDVI - NDVIo) / (NDVIs - NDVIo)\n",
    "\n",
    "# Plot the new triangle using normalized TIR and NDVI\n",
    "plt.figure()\n",
    "plt.plot(TIR2.ravel(), NDVI2.ravel(), '.')\n",
    "plt.title('Triangle after normalization')\n",
    "plt.xlabel('normalized TIR')\n",
    "plt.ylabel('normalized NDVI')\n",
    "\n",
    "plt.show()"
   ]
  }
 ],
 "metadata": {
  "kernelspec": {
   "display_name": "MIPRS_env",
   "language": "python",
   "name": "python3"
  },
  "language_info": {
   "codemirror_mode": {
    "name": "ipython",
    "version": 3
   },
   "file_extension": ".py",
   "mimetype": "text/x-python",
   "name": "python",
   "nbconvert_exporter": "python",
   "pygments_lexer": "ipython3",
   "version": "3.10.12"
  }
 },
 "nbformat": 4,
 "nbformat_minor": 2
}
